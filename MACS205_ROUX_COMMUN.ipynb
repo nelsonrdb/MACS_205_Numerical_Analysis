{
 "cells": [
  {
   "cell_type": "markdown",
   "id": "37095c60",
   "metadata": {},
   "source": [
    "# MACS205 Project \n",
    "\n",
    "Nelson Roux - Théophile Commun"
   ]
  },
  {
   "cell_type": "markdown",
   "id": "449de72d",
   "metadata": {},
   "source": [
    "__Part I. Theory__\n",
    "__Orthogonal Polynomials.__\n",
    "\n",
    "\n",
    "Consider the orthogonal family of polynomials $(P_0,P_1,...)$ obtained by process to the basis $1, X, X^2, . . .$ with the inner product $⟨., .⟩_ω$ and the normalization condition $P_n(1) = 1$ . First, we prove an important property of any orthogonal family of\n",
    "polynomials : each element Pi has i distinct simple roots in $\\chi$."
   ]
  },
  {
   "cell_type": "markdown",
   "id": "8f17cd9a",
   "metadata": {},
   "source": [
    "__1. Show that $P_n$ changes sign at least once in $\\chi$ .__\n",
    "\n",
    "Suppose that $P_n$ doesn't change sign in $\\chi$. Let's assume that $P_n$ is non-negative.\n",
    "Since the sequence of $(P_n)_n$ is a sequence of orthogonal polynomials, we have that $⟨P_n, P_0⟩_ω = 0$.\n",
    "But $⟨P_n, P_0⟩_ω = \\int\\limits_\\chi w(x)P_n(x)dx$. As $w$ is a non-negative function, we get that the function $w(.)P_n(.)$ is a non-negative function, thus, this function being a non-negative continuous function on $\\chi$ with integral to 0, it is the null function. This also true on $\\chi \\ (\\omega 1 , ..., \\omega k)$, where $w_k$ are the points where w is equal to 0. So $P_n(.)$ is null on this set, and the subset $(\\omega 1 , ..., \\omega k)$ has null measure, $P_n$ which is absurd. \n",
    "\n",
    "So $P_n$ changes sign at least once in $\\chi$ ."
   ]
  },
  {
   "cell_type": "markdown",
   "id": "54dff949",
   "metadata": {},
   "source": [
    "__2. Let $y_1, . . . , y_j$ the only points in $\\chi$ where $P_n$ changes its sign. Show that $j = n$ and conclude.\n",
    "Now we move on to show that the maximum order of the method is $2n + 1$ and that the nodes are unique and given by the roots of the orthogonal polynomial basis.__\n",
    "\n",
    "\n",
    "Let's suppose that $j < n$. We then consider the polynomial : \n",
    "We then consider the polynomial $L(X) = \\prod_{k = 1}^{r} (X - x_{r})$ where the $(x_r)_r$ have __odd__ multiplicity. Obviously, $r < j$\n",
    "\n",
    "Then we consider the polynomial $L'(X) = P_n(X)$ x $L(X)$. There exists a polynomial Q with __constant sign__ such that : \n",
    "$$ L'(X) = Q(X)\\prod_{k = 1}^{r} (X - x_{r})^{r_{i}+1}$$ with $r_{i}+1$ being and __even__ number. \n",
    "\n",
    "But, since deg($P_n$) = $n$ and deg($L$) $\\leq j < n$, we get that $⟨P_n, L⟩_ω = ⟨L', P_0⟩_ω = 0$ by __orthogonality__.\n",
    "\n",
    "Following the same reasoning as question1, since $L'$ is a non-negative function on $\\chi$, we get that L is the null polynomial, which is absurd.\n",
    "\n",
    "So, $j = n$"
   ]
  },
  {
   "cell_type": "markdown",
   "id": "8980f6de",
   "metadata": {},
   "source": [
    "__Necessary conditions.__ Assume the rule is of order $2n + 1$\n",
    "\n",
    "__3. Using a particular choice for f, show that the nodes $(x_i)_i$ must be roots of $P_{n+1}$.__\n",
    "\n",
    "Let i in $[1,n]$\n",
    "We consider the following polynomial : $P_{n+1}$ x $l_{i}$, where $l_{i}$ is the Lagrange polynomial associated to the $(x_i)_i$\n",
    "\n",
    "deg($P_{n+1}$) = $n + 1$ and deg($l_{i}$) = n, so deg($P_{n+1}$ x $l_{i}$) $\\leq$ $2n+1$. \n",
    "Since our rule is of order $2n + 1$, the integral is equal to it's approximation. \n",
    "\n",
    "By orthogonality we thus have that $⟨P_{n+1}, l_{i}⟩_ω = \\sum_{k=1}^n w_k P_{n+1}(x_k)l_{i}(x_{k}) = 0$ which reduces to $w_i P_{n+1}(x_i) = 0$, thank's to Lagrange Polynomials. \n",
    "We just have to proove that the $(w_k)k$ are positive to be able to conclude that $P_{n+1}(x_i) = 0$\n",
    "\n",
    "To do so, we consider the polynomial $Q_i(X)^2 = \\prod_{j \\neq i} (X - x_{j})^2$. We have that $⟨Q_i, Q_i⟩_ω > 0$.\n",
    "But, then again, as the rule is of order $2n + 1$, we have that $⟨Q_i, Q_i⟩_ω = \\sum_{k =1}^n w_k Q_i(x_k)^2$\n",
    "But give, Q's form, this reduces to $⟨Q_i, Q_i⟩_ω = w_i Q_i(x_i)^2 > 0 $ since  $⟨Q_i, Q_i⟩_ω$ is the norm of a non-0 polynomial. Finally, we obtain that $w_i$ is positive, and we can conclude the proof. \n"
   ]
  },
  {
   "cell_type": "markdown",
   "id": "ebb1e297",
   "metadata": {},
   "source": [
    "__4. Conclude the uniqueness of $(x_i)_i$ and $(w_i)_i$.__\n",
    "\n",
    "Given the question $1]$ and $3]$ , we obtain the unicity of the $(x_i)_i$. The $w_i$ are also uniqueliy defined by the above relation ship (with the polynomial $Q$), this concludes for the uniqueness of $w_i$."
   ]
  },
  {
   "cell_type": "markdown",
   "id": "67312c2c",
   "metadata": {},
   "source": [
    "__Sufficient conditions.__\n",
    "\n",
    "__5. Using Euclidean division, show that the necessary conditions are sufficient for the rule to be of order at least $2n + 1$.__\n",
    "\n",
    "Let H a polynomial of degree $2n-1$ or less. Divide this polynomial by $P_{n+1}$ to get : \n",
    "$$ H(X) = P_{n+1}(X)Q(X) + R(X) $$\n",
    "with deg($Q$) $\\leq n-1$. \n",
    "Since $P_n$ is by assumption __orthogonal to all polynomials of degree less than n__, we have : \n",
    "$$ ⟨H, 1⟩_ω = \\int\\limits_\\chi w(x)H(x)dx = \\int\\limits_\\chi w(x)(P_{n+1}(x)Q(x) + R(x)) dx = \\int\\limits_\\chi w(x)R(x) dx$$\n",
    "\n",
    "On the other hand, we have : \n",
    "$$\\sum_{k=1}^n w_k H(x_k) = \\sum_{k=1}^n w_k(P_{n+1}(x_k)Q(x_k) + R(x_k)) = \\sum_{k=1}^n w_k R(x_k)$$ \n",
    "as the $(x_i)_i$ are roots the $P_{n+1}$\n",
    "\n",
    "But using the decomposition in the Lagrange Polynomials basis for the points $(x_j)_j$, roots of $P_{n+1}$, we get that :  \n",
    "$$\\int\\limits_\\chi w(x)R(x) dx = \\int\\limits_\\chi w(x)\\sum_{j=1}^n R(x_j)l_j(x) dx = \\sum_{i=1}^n R(x_i)\\int\\limits_\\chi w(x) l_i(x)dx = \\sum_{i=1}^n a_i R(x_i)$$\n",
    "with $a_i = \\int\\limits_\\chi w(x) l_i(x)dx$\n",
    "\n",
    "Thank's to __unicity of the $(w_i)_i$ coefficients__ given by Q4], we get that : $\\sum_{k=1}^n w_k R(x_k) = \\int\\limits_\\chi w(x)R(x) dx$\n",
    "And we can add the other part to recover H in the sum to conclude the proof, as we are only adding zeros : \n",
    "$$  \\sum_{i=1}^n w_i R(x_i) = \\sum_{i=1}^n w_i (P_{n+1}(x_i)Q(x_i) + R(x_i)) $$\n",
    "\n",
    "Finally, we obtain that : \n",
    "$$\\int\\limits_\\chi w(x)H(x)dx = \\sum_{i=1}^n w_i H(x_i) $$ \n",
    "for any polynomial of degree less than $2n+1$"
   ]
  },
  {
   "cell_type": "markdown",
   "id": "8a7a17f3",
   "metadata": {},
   "source": [
    "__6. Using a specific choice of $f$ , show that the order of the rule cannot be larger than $2n + 1$.__\n",
    "\n",
    "Let's consider the polynomial : $L(X) = P_{n+1}(X)^2$.\n",
    "As always we have that : $\\sum_{i=1}^n w_i L(x_i) = 0$\n",
    "\n",
    "But, $L$ being a __non-zero__ polynomial, we have that $ \\lVert L \\rVert > 0 $.\n",
    "This counter example shows that the order of the rule cannot be larger than $2n + 1$."
   ]
  },
  {
   "cell_type": "markdown",
   "id": "74218a75",
   "metadata": {},
   "source": [
    "__Examples__ Let $n = 1$.\n",
    "\n",
    "\n",
    "— For $\\chi = [-1,1]$ and $w(x) = \\frac{1}{2}, (P_0,P_1,...)$ are called the $Legendre$ $polynomials$.\n",
    "\n",
    "— For $\\chi = \\mathbb{R}$ and $w(x) = \\frac{1}{√2π}e^{\\frac{x^2}{2}}$. $(P_0, P_1, ...)$ are called the $Hermite$ $polynomials$.\n",
    "\n",
    "\n",
    "— For $\\chi = [0, +∞]$ and $w(x) = e^{−x}, (P_0, P_1, . . .)$ are called the $Laguerre$ $polynomials$. 7. __Find $P_0, P_1$ and$ P_2$. Deduce the corresponding Gauss-Legendre quadrature for $n = 1$__.\n",
    "\n",
    "\n",
    "- $P_{0} = 1, P_{1} = X, P_{2} = X^2 - \\frac{1}{3}$\n",
    "- $P_{0} = 1, P_{1} = X; P_{2} = X^2 - \\frac{1}{\\sqrt{2\\pi}}$\n",
    "- $P_{0} = 1, P_{1} = X-1, P_{2} = X^2 - 4X + 2 $\n",
    "\n",
    "For $n = 1$, Gauss-Legendre quadrature is $\\widehat{I_{1}}(f) = \\frac{1}{2}(f(\\frac{-1}{\\sqrt{3}}) + f(\\frac{1}{\\sqrt{3}}))$"
   ]
  },
  {
   "cell_type": "markdown",
   "id": "67aae89c",
   "metadata": {},
   "source": [
    "__Part II. Implementation__\n",
    "\n",
    "In the following questions, you may use library functions referring to poly- nomials such as __scipy.special.roots_legendre__, __scipy.special.roots_laguerre__, etc . . .\n",
    "\n",
    "__8. For $\\chi = [a, b]$, what change of variable should be applied to the nodes $x_i$ ?__\n",
    "\n",
    "We change an integral over $[a,b]$  into an integral over $[−1, 1]$ before applying the Gaussian quadrature rule is because the Gaussian quadrature rule is specifically designed for integrating functions over the interval $[-1, 1]$.\n",
    "\n",
    "$$ \\int\\limits_a^b f(x) dx = \\frac{b-a}{2} \\int\\limits_{-1}^1 f(\\frac{b-a}{2}\\xi + \\frac{b+a}{2}) d\\xi = \\frac{b-a}{2} \\int\\limits_{-1}^1 \\tilde{f}(\\xi) d\\xi $$\n"
   ]
  },
  {
   "cell_type": "markdown",
   "id": "ee05c1b6",
   "metadata": {},
   "source": [
    "__9. Implement a function <span style=\"color:blue\">*def gauss_legendre_simple(f, a, b, nodes, weights)*</span> that approximates the integral of a function $f$ over $[a,b]$ using the Gaussian-Quadrature rule. Test your implementation on some analytically integrable function of your choice__."
   ]
  },
  {
   "cell_type": "code",
   "execution_count": 4,
   "id": "1adc1932",
   "metadata": {},
   "outputs": [],
   "source": [
    "from scipy.special import roots_legendre, eval_legendre\n",
    "ordre = 10 \n",
    "a = 2 #Integral bounds for the following questions \n",
    "b = 10 \n",
    "roots, weights = roots_legendre(ordre)"
   ]
  },
  {
   "cell_type": "code",
   "execution_count": 7,
   "id": "90b9192f",
   "metadata": {},
   "outputs": [
    {
     "name": "stdout",
     "output_type": "stream",
     "text": [
      "330.6666666666666\n"
     ]
    }
   ],
   "source": [
    "def f_tilde(f,x,a,b): #Change of variables\n",
    "        return f(((b-a)/2)*x + (b+a)/2)\n",
    "def gauss_legendre_simple(f, a, b, nodes, weights):\n",
    "    return ((b-a)/2)*(weights@f_tilde(f,nodes,a,b).T)\n",
    "### Example : \n",
    "def carré(x):\n",
    "    return x**2\n",
    "print(gauss_legendre_simple(carré,a,b,roots,weights)) #This is the good result "
   ]
  },
  {
   "cell_type": "markdown",
   "id": "6406b8a9",
   "metadata": {},
   "source": [
    "__10. Implement a function <span style=\"color:blue\">*def gauss_legendre(f, n, M, a, b)*</span> that performs the composite rule of Gauss-Legendre over M sub-intervals of $[a, b]$__"
   ]
  },
  {
   "cell_type": "code",
   "execution_count": 112,
   "id": "37aa0b5a",
   "metadata": {},
   "outputs": [
    {
     "name": "stdout",
     "output_type": "stream",
     "text": [
      "1.5521367521367522\n"
     ]
    }
   ],
   "source": [
    "def gauss_legendre(f, n, M, a, b):\n",
    "    roots, weights = roots_legendre(n)\n",
    "    l,res = (b-a)/M,0 #Lenght of sub-intervals\n",
    "    for i in range(M):\n",
    "        res += gauss_legendre_simple(f,a+i*l,a+(i+1)*l,roots, weights)   \n",
    "    return res\n",
    "print(gauss_legendre(inv,1,3,2,10)) #We obtain the same result as in the previous question"
   ]
  },
  {
   "cell_type": "markdown",
   "id": "7ca03d89",
   "metadata": {},
   "source": [
    "__11. Write an identical function but with a vectorized implementation gauss_legendre_vectorized(f,\n",
    "n, M, a, b)with numpy (does not contain any loop or list comprehensions. Hint : it should not call <span style=\"color:blue\">gauss_legendre_simple__</span>)."
   ]
  },
  {
   "cell_type": "markdown",
   "id": "41b21c07",
   "metadata": {},
   "source": [
    "For all the subintervals we must first implement the change of variable, so, for example if we denote $\\tilde f_j$ the function that operate the jth sub-interval we get : \n",
    "\n",
    "$$ \\tilde f_j(x) = f((a+(j+1)l - a+jl)x + \\frac{a+(j+1)l+a+jl}{2}) = f(a + \\frac{l}{2}(x+2j+1))$$\n",
    "\n",
    "We can thus implement a __np.meshgrid()__ to compute the function for all the nodes and all the subintervals."
   ]
  },
  {
   "cell_type": "code",
   "execution_count": 35,
   "id": "d27864e4",
   "metadata": {},
   "outputs": [
    {
     "name": "stdout",
     "output_type": "stream",
     "text": [
      "330.6666666666666\n"
     ]
    }
   ],
   "source": [
    "import numpy as np\n",
    "def variable_change(x,j,l,a):\n",
    "    return a + (l/2)*(x + 2*j + 1)\n",
    "def gauss_legendre_vectorized(f,n, M,a,b):\n",
    "    roots, weights = roots_legendre(n)\n",
    "    l = (b-a)/M\n",
    "    X = roots\n",
    "    Y = np.linspace(0,M-1,M)\n",
    "    Z = np.meshgrid(X,Y) #Creating a grid with all the possible values\n",
    "    f_matrix = f(variable_change(Z[0],Z[1],l,a))\n",
    "    return (l/2)*(np.ones(M))@f_matrix@weights #Matrix multiplication\n",
    "print(gauss_legendre_vectorized(carré,10,3,2,10)) #We obtain the same result as in the previous questions"
   ]
  },
  {
   "cell_type": "markdown",
   "id": "10a99081",
   "metadata": {},
   "source": [
    "__12. Visualize in one plot the integration error of $\\int\\limits_2^5 \\frac{1}{x} dx$ as a function of both $n$ and $M$.__"
   ]
  },
  {
   "cell_type": "code",
   "execution_count": 38,
   "id": "8d74af88",
   "metadata": {},
   "outputs": [
    {
     "name": "stdout",
     "output_type": "stream",
     "text": [
      "0.9162907318741551\n"
     ]
    },
    {
     "data": {
      "image/png": "[encoded data removed]",
      "text/plain": [
       "<Figure size 640x480 with 2 Axes>"
      ]
     },
     "metadata": {},
     "output_type": "display_data"
    }
   ],
   "source": [
    "import scipy.integrate as spi\n",
    "import matplotlib.pyplot as plt\n",
    "import matplotlib as mpl\n",
    "import numpy as np \n",
    "import scipy.stats\n",
    "def inv(x):\n",
    "    return 1/x\n",
    "#Precise value\n",
    "result, error = spi.quad(inv, 2, 5)\n",
    "print(result)\n",
    "def error(n,M):\n",
    "    return abs(result - gauss_legendre(inv, n, M, 2, 5))\n",
    "\n",
    "n_vals = np.arange(1,10)\n",
    "M_vals = np.arange(1,10)\n",
    "n_grid, M_grid = np.meshgrid(n_vals, M_vals)\n",
    "error_grid = np.zeros_like(n_grid, dtype=float)\n",
    "for i in range(n_vals.size):\n",
    "    for j in range(M_vals.size):\n",
    "        error_grid[i,j] = error(n_vals[i], M_vals[j])\n",
    "plt.pcolormesh(n_grid, M_grid, error_grid, cmap='viridis')\n",
    "plt.colorbar()\n",
    "plt.xlabel('n')\n",
    "plt.ylabel('M')\n",
    "plt.title('Error Heatmap')\n",
    "plt.show()"
   ]
  },
  {
   "cell_type": "markdown",
   "id": "e5086101",
   "metadata": {},
   "source": [
    "We can see that along both axis's, the error tends towards 0. "
   ]
  },
  {
   "cell_type": "markdown",
   "id": "aa426114",
   "metadata": {},
   "source": [
    "__13. Write a function <span style=\"color:blue\">*def trapezoidal*</span> that computes the composite trapezoidal rule of Ex 1. Compare the integration error with the Gauss-Legendre method with the same values of M and the number of nodes. What do you conclude ?__\n",
    "\n"
   ]
  },
  {
   "cell_type": "code",
   "execution_count": 63,
   "id": "b0baa449",
   "metadata": {},
   "outputs": [
    {
     "name": "stdout",
     "output_type": "stream",
     "text": [
      "Scipy value 0.9162907318741551\n",
      "Gauss-Legendre :  0.9162900565105405\n",
      "Trapezoidal :  0.8559467714968747\n",
      "With  M = 10000 weobtain approximatively the same value for with the traerzoidal method :  0.916230731649045\n"
     ]
    }
   ],
   "source": [
    "def trapezoidal(f,M,a,b): #y parameter is useful later\n",
    "    h = (b-a)/M\n",
    "    poids = np.ones(M)\n",
    "    poids[0]= 0.5\n",
    "    poids[M-1] = 0.5\n",
    "    return h*(poids@np.array([f(a+i*h) for i in range(M)]))    \n",
    "M = 10\n",
    "print(\"Scipy value\",result)\n",
    "print(\"Gauss-Legendre : \", gauss_legendre(inv,2, M, 2, 5))\n",
    "print(\"Trapezoidal : \", trapezoidal(inv,M, 2, 5))\n",
    "\n",
    "print(\"With  M = 10000 weobtain approximatively the same value for with the traerzoidal method : \",trapezoidal(inv,10000,2,5))"
   ]
  },
  {
   "cell_type": "markdown",
   "id": "b08bf321",
   "metadata": {},
   "source": [
    "__Gauss-Legendre__ method is __much better__."
   ]
  },
  {
   "cell_type": "markdown",
   "id": "e8876eb8",
   "metadata": {},
   "source": [
    "__14. Mini-project : Implement different Gauss-quadrature rules (different set of nodes i.e different space\n",
    "$\\chi$) that approximate the probability $\\mathbb{P}(X ≤ a)$ for a Gaussian random variable $X ∼ \\mathcal{N} (0, 1)$ and\n",
    "some $a ∈ \\mathbb{R}$. Evaluate the accuracy of your approximation (as a function of $n$) using <span style=\"color:blue\">scipy.stats.norm.cdf </span>. Which rule is more accurate and why ?__\n"
   ]
  },
  {
   "cell_type": "code",
   "execution_count": 41,
   "id": "48980ea5",
   "metadata": {
    "scrolled": true
   },
   "outputs": [
    {
     "data": {
      "image/png": "[encoded data removed]",
      "text/plain": [
       "<Figure size 640x480 with 1 Axes>"
      ]
     },
     "metadata": {},
     "output_type": "display_data"
    }
   ],
   "source": [
    "import scipy.stats as stats\n",
    "a = 0.7863 #Example \n",
    "def integrand(x): \n",
    "    return (1/np.sqrt(2*np.pi))*np.exp(-(x**2)/2)\n",
    "def I(n,M,x):\n",
    "    return gauss_legendre(integrand, n, M, -10, x)\n",
    "L = [abs(I(i,10,a)-stats.norm.cdf(a)) for i in range(1,10)]\n",
    "L_x = [i for i in range(1,10)]\n",
    "plt.plot(L_x,L)\n",
    "plt.show()"
   ]
  },
  {
   "cell_type": "markdown",
   "id": "9e293fdb",
   "metadata": {},
   "source": [
    "__Part III. Richardson acceleration and Romberg’s method__ Consider an approximation A(h) of a quantity of interest A given by :\n",
    "\n",
    "$$A(h)=A+a_1h+a_2h^2 +O(h^k)$$\n",
    "\n",
    "The goal of Richardson’s method is to eliminate the $h_i$ terms using multiple evaluations $A(h_1), A(h_2), . . . .$\n",
    "\n",
    "Let $α$ be a known and fixed positive constant. Setting $h_i = α^ih$ for some $h > 0$, we define : $B(h) = \\frac{A(αh) − αA(h)}{1 -α}  = A + O(h^2)$\n",
    "\n",
    "Thus, $B$ eliminates the error term $a_1h$. This process can be repeated to eliminate the remaining terms."
   ]
  },
  {
   "cell_type": "markdown",
   "id": "dde26a51",
   "metadata": {},
   "source": [
    "__14. Let $A_{i,0} = A(α^ih)$ and $A_{1,1} = B(h)$. Show that the expression given by $A_{i,j} = \\frac{A_{i,j-1}−α^jA_{i−1,j−1}}{1 - α^j}$\n",
    "removes the first $j$ error terms using $i$ nodes.__\n",
    "\n",
    "Let's show this property by induction. \n",
    "\n",
    "__Basis :__ Done in the exercise statement\n",
    "\n",
    "__Hypothesis :__ Let's suppose that $A_{i,j} = \\frac{A_{i,j-1}−α^jA_{i−1,j−1}}{1 - α^j}$ removes the first $j-1$ error terms using $i-1$ nodes.\n",
    "\n",
    "__Inductive :__ by hypothesis, there exist $a_{j-1}$ such that $A_{i−1,j−1}(h) = A + a_{j}h^j + O(h^{j+1})$\n",
    "\n",
    "Thus by computing $A_{i,j}(h)$, we get that : \n",
    "\n",
    "$$ A_{i,j}(h) = \\frac{A + a_{j}({\\alpha h}^j) + O(h^{j+1}) - \\alpha^j(a_{j}h^j + O(h^{j+1})}{1 -\\alpha^j} = \\frac{(1-\\alpha^j)A + O(h^{j+1})}{1 - α^j} = A + O(h^{j+1})$$\n",
    "\n",
    "We have removed the  __j first error terms__ by computing our quantity at an ith point (wich is $\\alpha^i h$), using thus an ith node. "
   ]
  },
  {
   "cell_type": "markdown",
   "id": "98ccf913",
   "metadata": {},
   "source": [
    "__15. Richardson’s acceleration applied to the trapezoidal rule is called Romberg’s integration. The error of the trapezoidal rule is given by :__\n",
    "$$ \\widehat{I_{t}(h)}= \\int f + \\sum_{k = 1}^{n} a_kh^{2k} + O(h^2)$$\n",
    "\n",
    "\n",
    "__Implement Richardson’s method applied to $I_{t}(h)$.__"
   ]
  },
  {
   "cell_type": "code",
   "execution_count": 77,
   "id": "50d21fd1",
   "metadata": {},
   "outputs": [
    {
     "name": "stdout",
     "output_type": "stream",
     "text": [
      "0.9151187702372613\n"
     ]
    }
   ],
   "source": [
    "def Romberg(f,n,a,b):\n",
    "    R = np.zeros((n, n))#Création du tableau \n",
    "    M = 1 \n",
    "    R[0, 0] = trapezoidal(f,M,a,b)\n",
    "    alpha = 0.5 #On prend alpha = 1/2, donc diviser par deux le pas à chaque itération revient à multiplier par deux le nombre d'intervalles \n",
    "    for i in range(1, n): \n",
    "        M = 2*M \n",
    "        R[i,0] = trapezoidal(f,M,a,b)\n",
    "        for j in range(1,i+1): #Mise à jour des différentes valeurs \n",
    "            R[i,j] = (R[i,j-1]-(alpha)**j*R[i,j-1])/(1-alpha**j)\n",
    "    return R[n-1,n-1]     "
   ]
  },
  {
   "cell_type": "markdown",
   "id": "ab015049",
   "metadata": {},
   "source": [
    "__16. Plot the integration error as a function of 1/$h$ for the trapezoidal rule with and without Richardson's acceleration. Compare with Gaussian quadrature.__"
   ]
  },
  {
   "cell_type": "code",
   "execution_count": 139,
   "id": "773dfcd0",
   "metadata": {},
   "outputs": [],
   "source": [
    "Y_trapez = [trapezoidal(inv,i,2,5) for i in range(2,25)]\n",
    "Y_GL = [gauss_legendre(inv,i,20,2,5) for i in range(2,25)] #only until 25 for complexity reasons\n",
    "Y_Rom = [Romberg(inv,i,2,5) for i in range(2,25)]"
   ]
  },
  {
   "cell_type": "code",
   "execution_count": 141,
   "id": "9ce9340b",
   "metadata": {},
   "outputs": [
    {
     "data": {
      "text/plain": [
       "<matplotlib.legend.Legend at 0x15fe4b160>"
      ]
     },
     "execution_count": 141,
     "metadata": {},
     "output_type": "execute_result"
    },
    {
     "data": {
      "image/png": "[encoded data removed]",
      "text/plain": [
       "<Figure size 640x480 with 1 Axes>"
      ]
     },
     "metadata": {},
     "output_type": "display_data"
    }
   ],
   "source": [
    "#fig, ax = plt.subplots()\n",
    "#ax.axhline(spi.quad(inv, 2, 5),color='r')\n",
    "plt.plot(Y_GL, label ='Gauss-Legendre')\n",
    "plt.plot(Y_trapez,label ='Trapezoidal')\n",
    "plt.plot(Y_Rom, label ='Romberg')\n",
    "plt.legend()"
   ]
  },
  {
   "cell_type": "markdown",
   "id": "cc40503b",
   "metadata": {},
   "source": [
    "We can see thah __Romberg's method__ is much faster than Trapezoidal method. "
   ]
  }
 ],
 "metadata": {
  "kernelspec": {
   "display_name": "Python 3 (ipykernel)",
   "language": "python",
   "name": "python3"
  },
  "language_info": {
   "codemirror_mode": {
    "name": "ipython",
    "version": 3
   },
   "file_extension": ".py",
   "mimetype": "text/x-python",
   "name": "python",
   "nbconvert_exporter": "python",
   "pygments_lexer": "ipython3",
   "version": "3.10.10"
  }
 },
 "nbformat": 4,
 "nbformat_minor": 5
}
